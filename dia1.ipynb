{
 "cells": [
  {
   "cell_type": "markdown",
   "metadata": {},
   "source": [
    "## Variables"
   ]
  },
  {
   "cell_type": "code",
   "execution_count": null,
   "metadata": {},
   "outputs": [],
   "source": [
    "#creamos la variable de nombre numero\n",
    "numero = 55\n",
    "\n",
    "#imprimir variable\n",
    "print(numero)\n",
    "\n",
    "#imprimir texto -> Hola Mundo\n",
    "print(\"Hola Mundo\")"
   ]
  },
  {
   "cell_type": "markdown",
   "metadata": {},
   "source": [
    "1- Crear una variable e imprimir esa variable"
   ]
  },
  {
   "cell_type": "markdown",
   "metadata": {},
   "source": [
    "2- Imprimir \"Hola Mundo\""
   ]
  },
  {
   "cell_type": "markdown",
   "metadata": {},
   "source": [
    "## Tipo de Datos"
   ]
  },
  {
   "cell_type": "code",
   "execution_count": null,
   "metadata": {},
   "outputs": [],
   "source": [
    "# Tipos de datos Simples o Primitivos\n",
    "nombre_persona = \"Mario Karajallo\" #Variable de tipo cadena texto -> String\n",
    "vocal ='a' #Variable de tipo caracter -> character -> char\n",
    "edad = 30 #Variable de tipo entero -> integer -> int\n",
    "pi = 3.14 #variable de tipo Decimal -> float\n",
    "respuesta = False #Tipo Buleano -> Boolean\n",
    "respuesta = True #Tipo Bueleano -> Boolean\n",
    "persona2 = \"kevin Montiel\"\n",
    "\n",
    "print(nombre_persona)\n",
    "#imprimir + nombre_variable entre parentesis ()\n",
    "print(persona2)\n",
    "print(edad)\n",
    "print(respuesta)"
   ]
  },
  {
   "cell_type": "markdown",
   "metadata": {},
   "source": [
    "3- Crear una variable para cada tipo de dato primitivo, e imprimirlos."
   ]
  },
  {
   "cell_type": "markdown",
   "metadata": {},
   "source": [
    "## Variables"
   ]
  },
  {
   "cell_type": "markdown",
   "metadata": {},
   "source": [
    "- No pueden ser una palabra reservada del lenguaje\n",
    "- Los nombres de variables son «case-sensitive». Por ejemplo, nombre y Nombre son nombres diferentes.\n",
    "\n",
    "#### Convenciones para nombres\n",
    "Se utiliza el llamado snake_case en el que utilizamos caracteres en minúsculas (incluyendo dígitos si procede) junto con guiones bajos *numero_de_canciones*\n",
    "\n",
    "##### ELEGIR BUENOS NOMBRES\n",
    "Es fundamental que los nombres de variables sean autoexplicativos, pero siempre llegando a un compromiso entre ser concisos y claros.\n",
    "\n"
   ]
  },
  {
   "cell_type": "code",
   "execution_count": null,
   "metadata": {},
   "outputs": [],
   "source": [
    "#variables son sensibles a masyusculas y minusculas\n",
    "Nombre = \"Mario\"\n",
    "nombre = \"Javier\"\n",
    "numero = 10\n",
    "numerO = 12\n",
    "print(numerO)\n",
    "\n",
    "#convension de nombres\n",
    "nombre_apellido = \"mario karajallo\" #->ok\n",
    "np = \"mario karajallo\" #->ok, pero no es un buen nombre de variable\n",
    "nombre_escuela = \"escuela\" #-> ok\n",
    "nombre_escuela = 90 #-> debe de tener sentido el nombre de variable con su valor\n",
    "\n",
    "numero = 10\n",
    "edad_personas = 30\n",
    "edad_animal = 4\n"
   ]
  },
  {
   "cell_type": "markdown",
   "metadata": {},
   "source": [
    "### Asignación"
   ]
  },
  {
   "cell_type": "markdown",
   "metadata": {},
   "source": [
    "En Python se usa el símbolo = para asignar un valor a una variable. Nombre a la izquierda y valor a la derecha\n"
   ]
  },
  {
   "cell_type": "code",
   "execution_count": null,
   "metadata": {},
   "outputs": [],
   "source": [
    "total_habitantes = 157503\n",
    "avg_temperature = 16.8\n",
    "nombre_ciudad = 'encarnacion'"
   ]
  },
  {
   "cell_type": "markdown",
   "metadata": {},
   "source": [
    "Asignando una variable a otra variable, la variable que utilicemos como valor de asignación debe existir previamente, ya que si no es así, obtendremos un error informando de que no está definida"
   ]
  },
  {
   "cell_type": "code",
   "execution_count": null,
   "metadata": {},
   "outputs": [],
   "source": [
    "poblacion = 157503\n",
    "total_poblacion = poblacion\n",
    "print(total_poblacion)"
   ]
  },
  {
   "cell_type": "markdown",
   "metadata": {},
   "source": [
    "### Conocer el valor de una variable\n"
   ]
  },
  {
   "cell_type": "markdown",
   "metadata": {},
   "source": [
    "Para ello podemos hacer uso de print"
   ]
  },
  {
   "cell_type": "code",
   "execution_count": null,
   "metadata": {},
   "outputs": [],
   "source": [
    "numero = 12000\n",
    "print(numero)"
   ]
  },
  {
   "cell_type": "markdown",
   "metadata": {},
   "source": [
    "### Conocer el tipo de una variable\n",
    "Para poder descubrir el tipo de un literal o una variable, Python nos ofrece la función type(). Veamos algunos ejemplos de su uso:"
   ]
  },
  {
   "cell_type": "code",
   "execution_count": null,
   "metadata": {},
   "outputs": [],
   "source": [
    "type(9)\n",
    "\n",
    "type(1.2)\n",
    "\n",
    "altura = 3718\n",
    "type(altura)\n",
    "print(altura)\n",
    "\n",
    "velocidad_sonido = 343.2\n",
    "type(velocidad_sonido)"
   ]
  },
  {
   "cell_type": "markdown",
   "metadata": {},
   "source": [
    "Ejercicios 🤺\n",
    "\n",
    "1- Asigna un valor entero 2022 a la variable ano y muestra su valor.\n",
    "\n",
    "2- Descubre el tipo del literal/texto/string 'Buenas noches y suerte'.\n",
    "\n",
    "3- Identifica el tipo del literal True.\n",
    "\n",
    "4- Asigna la expresión 10 * 3.0 a la variable resultado y muestra su tipo."
   ]
  },
  {
   "cell_type": "markdown",
   "metadata": {},
   "source": [
    "### Booleanos"
   ]
  },
  {
   "cell_type": "markdown",
   "metadata": {},
   "source": [
    "En esta lógica las variables sólo pueden tomar dos valores discretos: verdadero o falso.\n",
    "- True que se corresponde con verdadero (y también con 1 en su representación numérica).\n",
    "\n",
    "- False que se corresponde con falso (y también con 0 en su representación numérica)."
   ]
  },
  {
   "cell_type": "code",
   "execution_count": 6,
   "metadata": {},
   "outputs": [
    {
     "name": "stdout",
     "output_type": "stream",
     "text": [
      "False\n"
     ]
    },
    {
     "data": {
      "text/plain": [
       "bool"
      ]
     },
     "execution_count": 6,
     "metadata": {},
     "output_type": "execute_result"
    }
   ],
   "source": [
    "# esta_abierto = True\n",
    "# print(esta_abierto)\n",
    "# type(esta_abierto)\n",
    "\n",
    "\n",
    "tiene_azucar = False\n",
    "print(tiene_azucar)\n",
    "type(tiene_azucar)\n"
   ]
  },
  {
   "cell_type": "markdown",
   "metadata": {},
   "source": [
    "### Enteros\n",
    "Los números enteros no tienen decimales pero sí pueden contener signo y estar expresados en alguna base distinta de la usual (base 10)."
   ]
  },
  {
   "cell_type": "code",
   "execution_count": 10,
   "metadata": {},
   "outputs": [
    {
     "data": {
      "text/plain": [
       "int"
      ]
     },
     "execution_count": 10,
     "metadata": {},
     "output_type": "execute_result"
    }
   ],
   "source": [
    "# numero_negativo = -50\n",
    "# print(numero_negativo)\n",
    "# type(numero_negativo)\n",
    "\n",
    "numero_positivo= 40\n",
    "type(numero_positivo)"
   ]
  },
  {
   "cell_type": "markdown",
   "metadata": {},
   "source": [
    "### Flotantes"
   ]
  },
  {
   "cell_type": "markdown",
   "metadata": {},
   "source": [
    "Los números en punto flotante. Tienen parte decimal."
   ]
  },
  {
   "cell_type": "code",
   "execution_count": 12,
   "metadata": {},
   "outputs": [
    {
     "data": {
      "text/plain": [
       "float"
      ]
     },
     "execution_count": 12,
     "metadata": {},
     "output_type": "execute_result"
    }
   ],
   "source": [
    "numero_flotante = 2.0987\n",
    "type(numero_flotante)\n"
   ]
  },
  {
   "cell_type": "markdown",
   "metadata": {},
   "source": [
    "## Operaciones aritmeticas"
   ]
  },
  {
   "cell_type": "code",
   "execution_count": 32,
   "metadata": {},
   "outputs": [
    {
     "name": "stdout",
     "output_type": "stream",
     "text": [
      "28.0\n"
     ]
    }
   ],
   "source": [
    "# Suma\n",
    "suma= 7+3\n",
    "print(suma)\n",
    "print(1+2)\n",
    "\n",
    "suma_total= 10 + suma\n",
    "            #10 + 10\n",
    "print(suma_total)\n",
    "\n",
    "# Resta\n",
    "resta= 5-4\n",
    "print(resta)\n",
    "print(10 - 2)\n",
    "\n",
    "# Multiplicacion\n",
    "multiplicacion = 10 * 2\n",
    "print(multiplicacion)\n",
    "print(3 * 2)\n",
    "\n",
    "# Division\n",
    "division= 6 / 2\n",
    "print(division) \n",
    "type(division)\n",
    "print(11 / 2)\n",
    "\n",
    "# Python obedece a la regla matemática de la precedencia de operadores\n",
    "print(2 * 2 + 12 / 2 - 1)\n"
   ]
  },
  {
   "cell_type": "markdown",
   "metadata": {},
   "source": [
    "Ejercicios 🤺\n",
    "1. Suma: asignar dos números en dos variables diferentes cantidad_de_manzanas y cantidad_de_naranjas.\n",
    "Luego sumar ambas variables en cantidad_de_frutas. Imprimir la última variable.\n",
    "\n",
    "2. Resta: asignar un valor numérico a la variable frutas_comidas. Luego, asignar la resta entre cantidad_de_frutas y frutas_comidas a la variable frutas_restantes. Imprimir la última variable."
   ]
  },
  {
   "cell_type": "markdown",
   "metadata": {},
   "source": [
    "### CONVERSIÓN EXPLÍCITA"
   ]
  },
  {
   "cell_type": "markdown",
   "metadata": {},
   "source": [
    "Aunque más adelante veremos el concepto de función, desde ahora podemos decir que existen una serie de funciones para realizar conversiones explícitas de un tipo a otro:\n",
    "\n",
    "bool() -> Convierte el tipo a booleano.\n",
    "\n",
    "int() -> Convierte el tipo a entero.\n",
    "\n",
    "float() -> Convierte el tipo a flotante."
   ]
  },
  {
   "cell_type": "markdown",
   "metadata": {},
   "source": [
    "## Concatenacion"
   ]
  },
  {
   "cell_type": "markdown",
   "metadata": {},
   "source": [
    "## Obteniendo datos del Usuario"
   ]
  },
  {
   "cell_type": "markdown",
   "metadata": {},
   "source": [
    "## Funciones"
   ]
  }
 ],
 "metadata": {
  "kernelspec": {
   "display_name": "Python 3.10.4 64-bit",
   "language": "python",
   "name": "python3"
  },
  "language_info": {
   "codemirror_mode": {
    "name": "ipython",
    "version": 3
   },
   "file_extension": ".py",
   "mimetype": "text/x-python",
   "name": "python",
   "nbconvert_exporter": "python",
   "pygments_lexer": "ipython3",
   "version": "3.10.4"
  },
  "orig_nbformat": 4,
  "vscode": {
   "interpreter": {
    "hash": "d4026d7a36d874e1f6c487603191095e1ef70b08516b0a096b0ced5fbd321bb0"
   }
  }
 },
 "nbformat": 4,
 "nbformat_minor": 2
}
